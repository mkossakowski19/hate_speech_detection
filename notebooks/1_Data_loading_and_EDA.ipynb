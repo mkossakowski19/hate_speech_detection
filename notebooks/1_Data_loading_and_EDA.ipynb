{
 "cells": [
  {
   "cell_type": "code",
   "execution_count": 1,
   "id": "dc063478-f170-490f-95ff-9a21725ed999",
   "metadata": {
    "tags": []
   },
   "outputs": [],
   "source": [
    "import os\n",
    "os.chdir(\"..\")"
   ]
  },
  {
   "cell_type": "code",
   "execution_count": 56,
   "id": "73414183-9d1c-4550-bc6d-17d7fbe2c1b8",
   "metadata": {
    "tags": []
   },
   "outputs": [],
   "source": [
    "import pandas as pd\n",
    "import matplotlib.pyplot as plt\n",
    "from typing import Dict, Any\n",
    "from collections import Counter\n",
    "import itertools\n",
    "import urllib"
   ]
  },
  {
   "cell_type": "code",
   "execution_count": 3,
   "id": "01f3c7d6-ff7b-4b5e-b932-041cb330f779",
   "metadata": {
    "tags": []
   },
   "outputs": [],
   "source": [
    "with open(\"data/task_6-2/training_set_clean_only_text.txt\", \"r\") as f:\n",
    "    examples = f.readlines()\n",
    "\n",
    "with open(\"data/task_6-2/training_set_clean_only_tags.txt\", \"r\") as f:\n",
    "    labels = f.readlines()"
   ]
  },
  {
   "cell_type": "code",
   "execution_count": 4,
   "id": "468b2475-70b3-4a6e-a6a0-c0e0b087906f",
   "metadata": {
    "tags": []
   },
   "outputs": [],
   "source": [
    "df = pd.DataFrame({\"text\": examples, \"label\": labels})"
   ]
  },
  {
   "cell_type": "code",
   "execution_count": 5,
   "id": "f67d2e8f-112f-4b29-9efb-1fe96ce0c1c2",
   "metadata": {
    "tags": []
   },
   "outputs": [
    {
     "data": {
      "text/html": [
       "<div>\n",
       "<style scoped>\n",
       "    .dataframe tbody tr th:only-of-type {\n",
       "        vertical-align: middle;\n",
       "    }\n",
       "\n",
       "    .dataframe tbody tr th {\n",
       "        vertical-align: top;\n",
       "    }\n",
       "\n",
       "    .dataframe thead th {\n",
       "        text-align: right;\n",
       "    }\n",
       "</style>\n",
       "<table border=\"1\" class=\"dataframe\">\n",
       "  <thead>\n",
       "    <tr style=\"text-align: right;\">\n",
       "      <th></th>\n",
       "      <th>text</th>\n",
       "      <th>label</th>\n",
       "    </tr>\n",
       "  </thead>\n",
       "  <tbody>\n",
       "    <tr>\n",
       "      <th>0</th>\n",
       "      <td>Dla mnie faworytem do tytułu będzie Cracovia. ...</td>\n",
       "      <td>0\\n</td>\n",
       "    </tr>\n",
       "    <tr>\n",
       "      <th>1</th>\n",
       "      <td>@anonymized_account @anonymized_account Brawo ...</td>\n",
       "      <td>0\\n</td>\n",
       "    </tr>\n",
       "    <tr>\n",
       "      <th>2</th>\n",
       "      <td>@anonymized_account @anonymized_account Super,...</td>\n",
       "      <td>0\\n</td>\n",
       "    </tr>\n",
       "    <tr>\n",
       "      <th>3</th>\n",
       "      <td>@anonymized_account @anonymized_account Musi. ...</td>\n",
       "      <td>0\\n</td>\n",
       "    </tr>\n",
       "    <tr>\n",
       "      <th>4</th>\n",
       "      <td>Odrzut natychmiastowy, kwaśna mina, mam problem\\n</td>\n",
       "      <td>0\\n</td>\n",
       "    </tr>\n",
       "    <tr>\n",
       "      <th>5</th>\n",
       "      <td>Jaki on był fajny xdd pamiętam, że spóźniłam s...</td>\n",
       "      <td>0\\n</td>\n",
       "    </tr>\n",
       "    <tr>\n",
       "      <th>6</th>\n",
       "      <td>@anonymized_account No nie ma u nas szczęścia 😉\\n</td>\n",
       "      <td>0\\n</td>\n",
       "    </tr>\n",
       "    <tr>\n",
       "      <th>7</th>\n",
       "      <td>@anonymized_account Dawno kogoś tak wrednego n...</td>\n",
       "      <td>0\\n</td>\n",
       "    </tr>\n",
       "    <tr>\n",
       "      <th>8</th>\n",
       "      <td>@anonymized_account @anonymized_account Zaległ...</td>\n",
       "      <td>0\\n</td>\n",
       "    </tr>\n",
       "    <tr>\n",
       "      <th>9</th>\n",
       "      <td>@anonymized_account @anonymized_account @anony...</td>\n",
       "      <td>2\\n</td>\n",
       "    </tr>\n",
       "  </tbody>\n",
       "</table>\n",
       "</div>"
      ],
      "text/plain": [
       "                                                text label\n",
       "0  Dla mnie faworytem do tytułu będzie Cracovia. ...   0\\n\n",
       "1  @anonymized_account @anonymized_account Brawo ...   0\\n\n",
       "2  @anonymized_account @anonymized_account Super,...   0\\n\n",
       "3  @anonymized_account @anonymized_account Musi. ...   0\\n\n",
       "4  Odrzut natychmiastowy, kwaśna mina, mam problem\\n   0\\n\n",
       "5  Jaki on był fajny xdd pamiętam, że spóźniłam s...   0\\n\n",
       "6  @anonymized_account No nie ma u nas szczęścia 😉\\n   0\\n\n",
       "7  @anonymized_account Dawno kogoś tak wrednego n...   0\\n\n",
       "8  @anonymized_account @anonymized_account Zaległ...   0\\n\n",
       "9  @anonymized_account @anonymized_account @anony...   2\\n"
      ]
     },
     "execution_count": 5,
     "metadata": {},
     "output_type": "execute_result"
    }
   ],
   "source": [
    "df.head(10)"
   ]
  },
  {
   "cell_type": "code",
   "execution_count": 6,
   "id": "c2b7e884-f7df-42e5-941f-762506bd9f16",
   "metadata": {
    "tags": []
   },
   "outputs": [
    {
     "name": "stdout",
     "output_type": "stream",
     "text": [
      "<class 'pandas.core.frame.DataFrame'>\n",
      "RangeIndex: 10041 entries, 0 to 10040\n",
      "Data columns (total 2 columns):\n",
      " #   Column  Non-Null Count  Dtype \n",
      "---  ------  --------------  ----- \n",
      " 0   text    10041 non-null  object\n",
      " 1   label   10041 non-null  object\n",
      "dtypes: object(2)\n",
      "memory usage: 157.0+ KB\n"
     ]
    }
   ],
   "source": [
    "df.info()"
   ]
  },
  {
   "cell_type": "code",
   "execution_count": 7,
   "id": "d033d5f0-96ec-4a02-8370-68cdf42e4a9d",
   "metadata": {
    "tags": []
   },
   "outputs": [],
   "source": [
    "df[\"label\"] = df[\"label\"].apply(lambda x: x.replace(\"\\n\", \"\"))\n",
    "df[\"label\"] = df[\"label\"].astype(int)"
   ]
  },
  {
   "cell_type": "code",
   "execution_count": 8,
   "id": "9183bdc9-96ae-4e69-82ea-d8991605ef54",
   "metadata": {
    "tags": []
   },
   "outputs": [
    {
     "name": "stdout",
     "output_type": "stream",
     "text": [
      "<class 'pandas.core.frame.DataFrame'>\n",
      "RangeIndex: 10041 entries, 0 to 10040\n",
      "Data columns (total 2 columns):\n",
      " #   Column  Non-Null Count  Dtype \n",
      "---  ------  --------------  ----- \n",
      " 0   text    10041 non-null  object\n",
      " 1   label   10041 non-null  int64 \n",
      "dtypes: int64(1), object(1)\n",
      "memory usage: 157.0+ KB\n"
     ]
    }
   ],
   "source": [
    "df.info()"
   ]
  },
  {
   "cell_type": "markdown",
   "id": "3b8302ad-616a-4b47-aa9f-0141174ec3ca",
   "metadata": {},
   "source": [
    "# Exploratory data analysis"
   ]
  },
  {
   "cell_type": "markdown",
   "id": "f7f06803-84c8-456e-961e-17c99a843e12",
   "metadata": {},
   "source": [
    "## Class distribution"
   ]
  },
  {
   "cell_type": "code",
   "execution_count": 9,
   "id": "da769a89-bfc0-4cbc-b196-a409ff4b0808",
   "metadata": {
    "tags": []
   },
   "outputs": [],
   "source": [
    "class_distribution = df[\"label\"].value_counts(normalize=True)"
   ]
  },
  {
   "cell_type": "code",
   "execution_count": 10,
   "id": "3d19f9b6-b31e-40b7-975b-c73055f6360d",
   "metadata": {
    "tags": []
   },
   "outputs": [
    {
     "data": {
      "image/png": "[encoded data removed]",
      "text/plain": [
       "<Figure size 640x480 with 1 Axes>"
      ]
     },
     "metadata": {},
     "output_type": "display_data"
    }
   ],
   "source": [
    "class_distribution.plot(kind='bar')\n",
    "plt.xlabel('Class')\n",
    "plt.ylabel('Frequency')\n",
    "plt.title('Class Distribution')\n",
    "plt.show()"
   ]
  },
  {
   "cell_type": "markdown",
   "id": "686efb64-24c2-4f53-9177-e29e25ca5b15",
   "metadata": {},
   "source": [
    "We can see that \"1\" and \"2\" classes are strongly undersampled."
   ]
  },
  {
   "cell_type": "markdown",
   "id": "ba0bb8dd-b152-4f03-aff5-0a5445a613dd",
   "metadata": {},
   "source": [
    "## Top K words in each class"
   ]
  },
  {
   "cell_type": "code",
   "execution_count": 23,
   "id": "8d301c75-ad95-48c2-afae-3a51bc486ca5",
   "metadata": {
    "tags": []
   },
   "outputs": [],
   "source": [
    "df[\"text\"] = df[\"text\"].apply(lambda x: x.replace(\"\\n\", \"\"))\n",
    "df[\"text\"] = df[\"text\"].apply(lambda x: x.lower())"
   ]
  },
  {
   "cell_type": "code",
   "execution_count": 24,
   "id": "aa61c894-18b8-41e1-a814-8e3a059fc897",
   "metadata": {
    "tags": []
   },
   "outputs": [],
   "source": [
    "def get_top_k_words_in_class(\n",
    "    dataframe: pd.DataFrame,\n",
    "    class_label: int,\n",
    "    k: int = 10,\n",
    "    target_name: str = \"label\",\n",
    "    input_name: str = \"text\",\n",
    ") -> Dict[str, int]:\n",
    "    class_examples = dataframe.loc[dataframe[target_name] == class_label][input_name].tolist()\n",
    "    class_examples = [example.split(\" \") for example in class_examples]\n",
    "    class_examples = list(itertools.chain.from_iterable(class_examples))\n",
    "    total_number_of_words = len(class_examples)\n",
    "    word_counter = Counter(class_examples)\n",
    "    word_counter = list(word_counter.items())\n",
    "    word_counter_normalized = [(item[0], round(item[1]/total_number_of_words, 4)) for item in word_counter]\n",
    "    word_counter_normalized = sorted(word_counter_normalized, key=lambda x:x[1], reverse=True)\n",
    "    word_counter_normalized = word_counter_normalized[:k]\n",
    "    return dict(word_counter_normalized)"
   ]
  },
  {
   "cell_type": "code",
   "execution_count": 25,
   "id": "6502d497-f845-4789-af83-f092d2c893e1",
   "metadata": {
    "tags": []
   },
   "outputs": [],
   "source": [
    "top_k_words_for_each_class = {\n",
    "    i: get_top_k_words_in_class(df, i, k=15)\n",
    "    for i in set(df[\"label\"].values)\n",
    "}"
   ]
  },
  {
   "cell_type": "code",
   "execution_count": 44,
   "id": "be7186b0-8cdd-483b-bf32-d21c6fb2393d",
   "metadata": {
    "tags": []
   },
   "outputs": [
    {
     "data": {
      "image/png": "[encoded data removed]",
      "text/plain": [
       "<Figure size 640x480 with 1 Axes>"
      ]
     },
     "metadata": {},
     "output_type": "display_data"
    },
    {
     "data": {
      "image/png": "[encoded data removed]",
      "text/plain": [
       "<Figure size 640x480 with 1 Axes>"
      ]
     },
     "metadata": {},
     "output_type": "display_data"
    },
    {
     "data": {
      "image/png": "[encoded data removed]",
      "text/plain": [
       "<Figure size 640x480 with 1 Axes>"
      ]
     },
     "metadata": {},
     "output_type": "display_data"
    }
   ],
   "source": [
    "for i in top_k_words_for_each_class.keys():\n",
    "    word_counts = top_k_words_for_each_class[i]\n",
    "    plt.bar(range(len(word_counts)), list(word_counts.values()), align='center')\n",
    "    plt.xticks(range(len(word_counts)), list(word_counts.keys()), rotation=30)\n",
    "    plt.xlabel('Words')\n",
    "    plt.ylabel('Frequency')\n",
    "    plt.title(f'Top 15 words for class {i}')\n",
    "    plt.show()"
   ]
  },
  {
   "cell_type": "markdown",
   "id": "b524a835-f088-4b26-8035-396f18a2abc2",
   "metadata": {},
   "source": [
    "Based on these plots, we can spot several things:\n",
    "- @anonymized_account token, which stands for mentioning a user, is a top occuring token in every class, so we can safely remove it in the preprocessing phase;\n",
    "- a lot of top occuring words are common for all classes, so we can consider them stop-words and safely remove them from the corpus;\n",
    "- a \"jesteś\" word is frequent in the \"1\" class, which stands for a harmful action addressed towards a private person."
   ]
  },
  {
   "cell_type": "markdown",
   "id": "25bae33b-38c1-47e2-97aa-a346c15ce0fe",
   "metadata": {},
   "source": [
    "## Average Tweet number of words in each class"
   ]
  },
  {
   "cell_type": "code",
   "execution_count": 39,
   "id": "ac989c42-9175-4fbb-ab72-74eca426a508",
   "metadata": {
    "tags": []
   },
   "outputs": [],
   "source": [
    "def get_average_tweet_length_for_a_class(\n",
    "    dataframe: pd.DataFrame,\n",
    "    class_label: int,\n",
    "    target_name: str = \"label\",\n",
    "    input_name: str = \"text\",\n",
    ") -> float:\n",
    "    tweets_from_specifed_class = dataframe.loc[dataframe[target_name] == class_label][\"text\"]\n",
    "    lengths = tweets_from_specifed_class.apply(lambda x: len(x.split(\" \")))\n",
    "    return round(lengths.mean(), 3)"
   ]
  },
  {
   "cell_type": "code",
   "execution_count": 41,
   "id": "333160ff-c2bd-47c1-a182-06eb7da344a5",
   "metadata": {
    "tags": []
   },
   "outputs": [],
   "source": [
    "average_tweet_lengths = {\n",
    "    i: get_average_tweet_length_for_a_class(df, i)\n",
    "    for i in set(df[\"label\"].values)\n",
    "}"
   ]
  },
  {
   "cell_type": "code",
   "execution_count": 47,
   "id": "3826898c-45d6-41cf-b58f-e027a47aefdf",
   "metadata": {
    "tags": []
   },
   "outputs": [
    {
     "data": {
      "image/png": "[encoded data removed]",
      "text/plain": [
       "<Figure size 640x480 with 1 Axes>"
      ]
     },
     "metadata": {},
     "output_type": "display_data"
    }
   ],
   "source": [
    "plt.bar(range(len(average_tweet_lengths)), list(average_tweet_lengths.values()), align=\"center\")\n",
    "plt.xticks(range(len(average_tweet_lengths)), list(average_tweet_lengths.keys()))\n",
    "plt.xlabel('Class')\n",
    "plt.ylabel('Average number of words in a Tweet')\n",
    "plt.title(f'Average number of words for each class')\n",
    "plt.show()"
   ]
  },
  {
   "cell_type": "markdown",
   "id": "56a96268-c594-4a11-a631-00e6b8d0485e",
   "metadata": {},
   "source": []
  },
  {
   "cell_type": "code",
   "execution_count": 48,
   "id": "f9176b5a-3001-4d35-b768-610294313687",
   "metadata": {
    "tags": []
   },
   "outputs": [
    {
     "name": "stdout",
     "output_type": "stream",
     "text": [
      "Collecting nltk\n",
      "  Downloading nltk-3.8.1-py3-none-any.whl (1.5 MB)\n",
      "\u001b[2K     \u001b[38;2;114;156;31m━━━━━━━━━━━━━━━━━━━━━━━━━━━━━━━━━━━━━━━━\u001b[0m \u001b[32m1.5/1.5 MB\u001b[0m \u001b[31m5.6 MB/s\u001b[0m eta \u001b[36m0:00:00\u001b[0mm eta \u001b[36m0:00:01\u001b[0m0:01\u001b[0m:01\u001b[0m\n",
      "\u001b[?25hCollecting tqdm\n",
      "  Using cached tqdm-4.64.1-py2.py3-none-any.whl (78 kB)\n",
      "Collecting click\n",
      "  Using cached click-8.1.3-py3-none-any.whl (96 kB)\n",
      "Collecting regex>=2021.8.3\n",
      "  Downloading regex-2022.10.31-cp39-cp39-macosx_10_9_x86_64.whl (293 kB)\n",
      "\u001b[2K     \u001b[38;2;114;156;31m━━━━━━━━━━━━━━━━━━━━━━━━━━━━━━━━━━━━━━━\u001b[0m \u001b[32m293.9/293.9 kB\u001b[0m \u001b[31m7.0 MB/s\u001b[0m eta \u001b[36m0:00:00\u001b[0m[36m0:00:01\u001b[0m\n",
      "\u001b[?25hRequirement already satisfied: joblib in ./.venv/lib/python3.9/site-packages (from nltk) (1.2.0)\n",
      "Installing collected packages: tqdm, regex, click, nltk\n",
      "Successfully installed click-8.1.3 nltk-3.8.1 regex-2022.10.31 tqdm-4.64.1\n"
     ]
    }
   ],
   "source": [
    "!pip install nltk"
   ]
  },
  {
   "cell_type": "code",
   "execution_count": 51,
   "id": "7b25d47a-6e33-4146-a84e-48f868744832",
   "metadata": {
    "tags": []
   },
   "outputs": [
    {
     "name": "stderr",
     "output_type": "stream",
     "text": [
      "[nltk_data] Downloading package stopwords to\n",
      "[nltk_data]     /Users/mariuszkossakowski/nltk_data...\n",
      "[nltk_data]   Package stopwords is already up-to-date!\n"
     ]
    },
    {
     "data": {
      "text/plain": [
       "True"
      ]
     },
     "execution_count": 51,
     "metadata": {},
     "output_type": "execute_result"
    }
   ],
   "source": [
    "import nltk\n",
    "nltk.download(\"stopwords\")"
   ]
  },
  {
   "cell_type": "markdown",
   "id": "3bc25b85-eae6-44e5-9a8f-6f86a7fa142b",
   "metadata": {},
   "source": [
    "## Stop words analysis"
   ]
  },
  {
   "cell_type": "code",
   "execution_count": 66,
   "id": "a700dfab-e237-45de-a491-c361f9656ece",
   "metadata": {
    "tags": []
   },
   "outputs": [],
   "source": [
    "# downloading a list of common stopwords in Polish language\n",
    "stopwords = pd.read_csv(\"https://raw.githubusercontent.com/bieli/stopwords/master/polish.stopwords.txt\")\n",
    "stopwords = stopwords[\"a\"].values.tolist()"
   ]
  },
  {
   "cell_type": "code",
   "execution_count": 68,
   "id": "432c54ad-0516-4f58-8238-c7e5efd364a2",
   "metadata": {
    "tags": []
   },
   "outputs": [],
   "source": [
    "additional_stopwords_sets = [\n",
    "    set(top_k_words_for_each_class[i].keys())\n",
    "    for i in top_k_words_for_each_class.keys()\n",
    "]"
   ]
  },
  {
   "cell_type": "code",
   "execution_count": 70,
   "id": "ea53320c-e0c1-4335-b50e-b811b4426c7c",
   "metadata": {
    "tags": []
   },
   "outputs": [],
   "source": [
    "additional_stopwords = additional_stopwords_sets[0] & additional_stopwords_sets[1] & additional_stopwords_sets[2]"
   ]
  },
  {
   "cell_type": "code",
   "execution_count": 74,
   "id": "18433861-edf1-4ff7-88c5-49b74d584788",
   "metadata": {
    "tags": []
   },
   "outputs": [
    {
     "name": "stdout",
     "output_type": "stream",
     "text": [
      "Appended a\n"
     ]
    }
   ],
   "source": [
    "for word in additional_stopwords:\n",
    "    if word.startswith(\"@\") == False and word not in stopwords:\n",
    "        stopwords.append(word)\n",
    "        print(f\"Appended {word}\")"
   ]
  },
  {
   "cell_type": "markdown",
   "id": "68074769-651f-4249-b1c6-02be3c35f552",
   "metadata": {},
   "source": [
    "So the list of common stop words already contains the most important ones in majority :)"
   ]
  },
  {
   "cell_type": "code",
   "execution_count": 75,
   "id": "3904dbc3-c4ea-4161-9b3d-a954a1a7753e",
   "metadata": {
    "tags": []
   },
   "outputs": [
    {
     "data": {
      "text/plain": [
       "['aby',\n",
       " 'ach',\n",
       " 'acz',\n",
       " 'aczkolwiek',\n",
       " 'aj',\n",
       " 'albo',\n",
       " 'ale',\n",
       " 'alez',\n",
       " 'ależ',\n",
       " 'ani',\n",
       " 'az',\n",
       " 'aż',\n",
       " 'bardziej',\n",
       " 'bardzo',\n",
       " 'beda',\n",
       " 'bedzie',\n",
       " 'bez',\n",
       " 'deda',\n",
       " 'będą',\n",
       " 'bede',\n",
       " 'będę',\n",
       " 'będzie',\n",
       " 'bo',\n",
       " 'bowiem',\n",
       " 'by',\n",
       " 'byc',\n",
       " 'być',\n",
       " 'byl',\n",
       " 'byla',\n",
       " 'byli',\n",
       " 'bylo',\n",
       " 'byly',\n",
       " 'był',\n",
       " 'była',\n",
       " 'było',\n",
       " 'były',\n",
       " 'bynajmniej',\n",
       " 'cala',\n",
       " 'cali',\n",
       " 'caly',\n",
       " 'cała',\n",
       " 'cały',\n",
       " 'ci',\n",
       " 'cie',\n",
       " 'ciebie',\n",
       " 'cię',\n",
       " 'co',\n",
       " 'cokolwiek',\n",
       " 'cos',\n",
       " 'coś',\n",
       " 'czasami',\n",
       " 'czasem',\n",
       " 'czemu',\n",
       " 'czy',\n",
       " 'czyli',\n",
       " 'daleko',\n",
       " 'dla',\n",
       " 'dlaczego',\n",
       " 'dlatego',\n",
       " 'do',\n",
       " 'dobrze',\n",
       " 'dokad',\n",
       " 'dokąd',\n",
       " 'dosc',\n",
       " 'dość',\n",
       " 'duzo',\n",
       " 'dużo',\n",
       " 'dwa',\n",
       " 'dwaj',\n",
       " 'dwie',\n",
       " 'dwoje',\n",
       " 'dzis',\n",
       " 'dzisiaj',\n",
       " 'dziś',\n",
       " 'gdy',\n",
       " 'gdyby',\n",
       " 'gdyz',\n",
       " 'gdyż',\n",
       " 'gdzie',\n",
       " 'gdziekolwiek',\n",
       " 'gdzies',\n",
       " 'gdzieś',\n",
       " 'go',\n",
       " 'i',\n",
       " 'ich',\n",
       " 'ile',\n",
       " 'im',\n",
       " 'inna',\n",
       " 'inne',\n",
       " 'inny',\n",
       " 'innych',\n",
       " 'iz',\n",
       " 'iż',\n",
       " 'ja',\n",
       " 'jak',\n",
       " 'jakas',\n",
       " 'jakaś',\n",
       " 'jakby',\n",
       " 'jaki',\n",
       " 'jakichs',\n",
       " 'jakichś',\n",
       " 'jakie',\n",
       " 'jakis',\n",
       " 'jakiś',\n",
       " 'jakiz',\n",
       " 'jakiż',\n",
       " 'jakkolwiek',\n",
       " 'jako',\n",
       " 'jakos',\n",
       " 'jakoś',\n",
       " 'ją',\n",
       " 'je',\n",
       " 'jeden',\n",
       " 'jedna',\n",
       " 'jednak',\n",
       " 'jednakze',\n",
       " 'jednakże',\n",
       " 'jedno',\n",
       " 'jego',\n",
       " 'jej',\n",
       " 'jemu',\n",
       " 'jesli',\n",
       " 'jest',\n",
       " 'jestem',\n",
       " 'jeszcze',\n",
       " 'jeśli',\n",
       " 'jezeli',\n",
       " 'jeżeli',\n",
       " 'juz',\n",
       " 'już',\n",
       " 'kazdy',\n",
       " 'każdy',\n",
       " 'kiedy',\n",
       " 'kilka',\n",
       " 'kims',\n",
       " 'kimś',\n",
       " 'kto',\n",
       " 'ktokolwiek',\n",
       " 'ktora',\n",
       " 'ktore',\n",
       " 'ktorego',\n",
       " 'ktorej',\n",
       " 'ktory',\n",
       " 'ktorych',\n",
       " 'ktorym',\n",
       " 'ktorzy',\n",
       " 'ktos',\n",
       " 'ktoś',\n",
       " 'która',\n",
       " 'które',\n",
       " 'którego',\n",
       " 'której',\n",
       " 'który',\n",
       " 'których',\n",
       " 'którym',\n",
       " 'którzy',\n",
       " 'ku',\n",
       " 'lat',\n",
       " 'lecz',\n",
       " 'lub',\n",
       " 'ma',\n",
       " 'mają',\n",
       " 'mało',\n",
       " 'mam',\n",
       " 'mi',\n",
       " 'miedzy',\n",
       " 'między',\n",
       " 'mimo',\n",
       " 'mna',\n",
       " 'mną',\n",
       " 'mnie',\n",
       " 'moga',\n",
       " 'mogą',\n",
       " 'moi',\n",
       " 'moim',\n",
       " 'moj',\n",
       " 'moja',\n",
       " 'moje',\n",
       " 'moze',\n",
       " 'mozliwe',\n",
       " 'mozna',\n",
       " 'może',\n",
       " 'możliwe',\n",
       " 'można',\n",
       " 'mój',\n",
       " 'mu',\n",
       " 'musi',\n",
       " 'my',\n",
       " 'na',\n",
       " 'nad',\n",
       " 'nam',\n",
       " 'nami',\n",
       " 'nas',\n",
       " 'nasi',\n",
       " 'nasz',\n",
       " 'nasza',\n",
       " 'nasze',\n",
       " 'naszego',\n",
       " 'naszych',\n",
       " 'natomiast',\n",
       " 'natychmiast',\n",
       " 'nawet',\n",
       " 'nia',\n",
       " 'nią',\n",
       " 'nic',\n",
       " 'nich',\n",
       " 'nie',\n",
       " 'niech',\n",
       " 'niego',\n",
       " 'niej',\n",
       " 'niemu',\n",
       " 'nigdy',\n",
       " 'nim',\n",
       " 'nimi',\n",
       " 'niz',\n",
       " 'niż',\n",
       " 'no',\n",
       " 'o',\n",
       " 'obok',\n",
       " 'od',\n",
       " 'około',\n",
       " 'on',\n",
       " 'ona',\n",
       " 'one',\n",
       " 'oni',\n",
       " 'ono',\n",
       " 'oraz',\n",
       " 'oto',\n",
       " 'owszem',\n",
       " 'pan',\n",
       " 'pana',\n",
       " 'pani',\n",
       " 'po',\n",
       " 'pod',\n",
       " 'podczas',\n",
       " 'pomimo',\n",
       " 'ponad',\n",
       " 'poniewaz',\n",
       " 'ponieważ',\n",
       " 'powinien',\n",
       " 'powinna',\n",
       " 'powinni',\n",
       " 'powinno',\n",
       " 'poza',\n",
       " 'prawie',\n",
       " 'przeciez',\n",
       " 'przecież',\n",
       " 'przed',\n",
       " 'przede',\n",
       " 'przedtem',\n",
       " 'przez',\n",
       " 'przy',\n",
       " 'roku',\n",
       " 'rowniez',\n",
       " 'również',\n",
       " 'sam',\n",
       " 'sama',\n",
       " 'są',\n",
       " 'sie',\n",
       " 'się',\n",
       " 'skad',\n",
       " 'skąd',\n",
       " 'soba',\n",
       " 'sobą',\n",
       " 'sobie',\n",
       " 'sposob',\n",
       " 'sposób',\n",
       " 'swoje',\n",
       " 'ta',\n",
       " 'tak',\n",
       " 'taka',\n",
       " 'taki',\n",
       " 'takie',\n",
       " 'takze',\n",
       " 'także',\n",
       " 'tam',\n",
       " 'te',\n",
       " 'tego',\n",
       " 'tej',\n",
       " 'ten',\n",
       " 'teraz',\n",
       " 'też',\n",
       " 'to',\n",
       " 'toba',\n",
       " 'tobą',\n",
       " 'tobie',\n",
       " 'totez',\n",
       " 'toteż',\n",
       " 'totobą',\n",
       " 'trzeba',\n",
       " 'tu',\n",
       " 'tutaj',\n",
       " 'twoi',\n",
       " 'twoim',\n",
       " 'twoj',\n",
       " 'twoja',\n",
       " 'twoje',\n",
       " 'twój',\n",
       " 'twym',\n",
       " 'ty',\n",
       " 'tych',\n",
       " 'tylko',\n",
       " 'tym',\n",
       " 'u',\n",
       " 'w',\n",
       " 'wam',\n",
       " 'wami',\n",
       " 'was',\n",
       " 'wasz',\n",
       " 'wasza',\n",
       " 'wasze',\n",
       " 'we',\n",
       " 'według',\n",
       " 'wiele',\n",
       " 'wielu',\n",
       " 'więc',\n",
       " 'więcej',\n",
       " 'wlasnie',\n",
       " 'właśnie',\n",
       " 'wszyscy',\n",
       " 'wszystkich',\n",
       " 'wszystkie',\n",
       " 'wszystkim',\n",
       " 'wszystko',\n",
       " 'wtedy',\n",
       " 'wy',\n",
       " 'z',\n",
       " 'za',\n",
       " 'zaden',\n",
       " 'zadna',\n",
       " 'zadne',\n",
       " 'zadnych',\n",
       " 'zapewne',\n",
       " 'zawsze',\n",
       " 'ze',\n",
       " 'zeby',\n",
       " 'zeznowu',\n",
       " 'zł',\n",
       " 'znow',\n",
       " 'znowu',\n",
       " 'znów',\n",
       " 'zostal',\n",
       " 'został',\n",
       " 'żaden',\n",
       " 'żadna',\n",
       " 'żadne',\n",
       " 'żadnych',\n",
       " 'że',\n",
       " 'żeby',\n",
       " 'a']"
      ]
     },
     "execution_count": 75,
     "metadata": {},
     "output_type": "execute_result"
    }
   ],
   "source": [
    "stopwords"
   ]
  },
  {
   "cell_type": "code",
   "execution_count": null,
   "id": "b76abfd5-a812-411b-9af0-48591974dd77",
   "metadata": {},
   "outputs": [],
   "source": []
  }
 ],
 "metadata": {
  "kernelspec": {
   "display_name": "hate_detection_kernel",
   "language": "python",
   "name": "hate_detection_kernel"
  },
  "language_info": {
   "codemirror_mode": {
    "name": "ipython",
    "version": 3
   },
   "file_extension": ".py",
   "mimetype": "text/x-python",
   "name": "python",
   "nbconvert_exporter": "python",
   "pygments_lexer": "ipython3",
   "version": "3.9.6"
  }
 },
 "nbformat": 4,
 "nbformat_minor": 5
}
